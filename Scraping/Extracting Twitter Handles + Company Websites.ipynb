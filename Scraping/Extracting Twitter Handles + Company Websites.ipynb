{
 "cells": [
  {
   "cell_type": "markdown",
   "metadata": {},
   "source": [
    "# Import data"
   ]
  },
  {
   "cell_type": "code",
   "execution_count": 2,
   "metadata": {
    "collapsed": true
   },
   "outputs": [],
   "source": [
    "import pandas as pd\n",
    "import numpy as np"
   ]
  },
  {
   "cell_type": "code",
   "execution_count": 3,
   "metadata": {
    "collapsed": true,
    "scrolled": true
   },
   "outputs": [],
   "source": [
    "df=pd.read_excel('Data/Active - Wholesale & retail.xlsx', sheetname='Results')"
   ]
  },
  {
   "cell_type": "code",
   "execution_count": 4,
   "metadata": {},
   "outputs": [
    {
     "data": {
      "text/html": [
       "<div>\n",
       "<style>\n",
       "    .dataframe thead tr:only-child th {\n",
       "        text-align: right;\n",
       "    }\n",
       "\n",
       "    .dataframe thead th {\n",
       "        text-align: left;\n",
       "    }\n",
       "\n",
       "    .dataframe tbody tr th {\n",
       "        vertical-align: top;\n",
       "    }\n",
       "</style>\n",
       "<table border=\"1\" class=\"dataframe\">\n",
       "  <thead>\n",
       "    <tr style=\"text-align: right;\">\n",
       "      <th></th>\n",
       "      <th>Company name</th>\n",
       "      <th>R/O Full Postcode</th>\n",
       "      <th>Registered number</th>\n",
       "      <th>Primary UK SIC (2007) code</th>\n",
       "      <th>Latest accounts date</th>\n",
       "      <th>Operating revenue (TO)\n",
       "th GBP\n",
       "Last avail. yr</th>\n",
       "      <th>Number of employees\n",
       "Last avail. yr</th>\n",
       "      <th>Company status</th>\n",
       "      <th>Ultimate owner</th>\n",
       "      <th>SME indicator</th>\n",
       "      <th>Credit score</th>\n",
       "      <th>Credit score indicator</th>\n",
       "      <th>Likelihood of failure\n",
       "%</th>\n",
       "      <th>No of unsecured creditors</th>\n",
       "      <th>Trade Creditors\n",
       "th GBP\n",
       "Last avail. yr</th>\n",
       "      <th>Trade Debtors\n",
       "th GBP\n",
       "Last avail. yr</th>\n",
       "      <th>Date of incorporation</th>\n",
       "      <th>Date of last transaction at Companies House</th>\n",
       "    </tr>\n",
       "  </thead>\n",
       "  <tbody>\n",
       "    <tr>\n",
       "      <th>1.0</th>\n",
       "      <td>TESCO PLC</td>\n",
       "      <td>AL7 1GA</td>\n",
       "      <td>00445790</td>\n",
       "      <td>47110</td>\n",
       "      <td>2017-02-25</td>\n",
       "      <td>55917000.0</td>\n",
       "      <td>464520.0</td>\n",
       "      <td>Active</td>\n",
       "      <td>TESCO PLC</td>\n",
       "      <td>No</td>\n",
       "      <td>89</td>\n",
       "      <td>Secure</td>\n",
       "      <td>0.9</td>\n",
       "      <td>0</td>\n",
       "      <td>8875000</td>\n",
       "      <td>1475000.0</td>\n",
       "      <td>1947-11-27</td>\n",
       "      <td>2016-07-20</td>\n",
       "    </tr>\n",
       "    <tr>\n",
       "      <th>2.0</th>\n",
       "      <td>UNILEVER PLC</td>\n",
       "      <td>CH62 4ZD</td>\n",
       "      <td>00041424</td>\n",
       "      <td>46900</td>\n",
       "      <td>2016-12-31</td>\n",
       "      <td>45096000.0</td>\n",
       "      <td>169000.0</td>\n",
       "      <td>Active</td>\n",
       "      <td>UNILEVER PLC</td>\n",
       "      <td>No</td>\n",
       "      <td>95</td>\n",
       "      <td>Secure</td>\n",
       "      <td>0.9</td>\n",
       "      <td>0</td>\n",
       "      <td>7350000</td>\n",
       "      <td>2848000.0</td>\n",
       "      <td>1894-06-21</td>\n",
       "      <td>2017-05-31</td>\n",
       "    </tr>\n",
       "    <tr>\n",
       "      <th>3.0</th>\n",
       "      <td>SHELL TRADING INTERNATIONAL LIMITED</td>\n",
       "      <td>SE1 7NA</td>\n",
       "      <td>03634752</td>\n",
       "      <td>46711</td>\n",
       "      <td>2015-12-31</td>\n",
       "      <td>42339000.0</td>\n",
       "      <td>571.0</td>\n",
       "      <td>Active</td>\n",
       "      <td>ROYAL DUTCH SHELL PLC</td>\n",
       "      <td>No</td>\n",
       "      <td>60</td>\n",
       "      <td>Stable</td>\n",
       "      <td>2.2</td>\n",
       "      <td>0</td>\n",
       "      <td>2572000</td>\n",
       "      <td>1465000.0</td>\n",
       "      <td>1998-09-14</td>\n",
       "      <td>2017-04-13</td>\n",
       "    </tr>\n",
       "    <tr>\n",
       "      <th>4.0</th>\n",
       "      <td>TESCO STORES LIMITED</td>\n",
       "      <td>AL7 1GA</td>\n",
       "      <td>00519500</td>\n",
       "      <td>47110</td>\n",
       "      <td>2016-02-27</td>\n",
       "      <td>39843000.0</td>\n",
       "      <td>279140.0</td>\n",
       "      <td>Active</td>\n",
       "      <td>TESCO PLC</td>\n",
       "      <td>No</td>\n",
       "      <td>92</td>\n",
       "      <td>Secure</td>\n",
       "      <td>0.9</td>\n",
       "      <td>0</td>\n",
       "      <td>3351000</td>\n",
       "      <td>NaN</td>\n",
       "      <td>1953-05-09</td>\n",
       "      <td>2016-10-18</td>\n",
       "    </tr>\n",
       "    <tr>\n",
       "      <th>5.0</th>\n",
       "      <td>BP INTERNATIONAL LIMITED</td>\n",
       "      <td>TW16 7BP</td>\n",
       "      <td>00542515</td>\n",
       "      <td>46719</td>\n",
       "      <td>2015-12-31</td>\n",
       "      <td>29407000.0</td>\n",
       "      <td>NaN</td>\n",
       "      <td>Active</td>\n",
       "      <td>BP P.L.C.</td>\n",
       "      <td>No</td>\n",
       "      <td>86</td>\n",
       "      <td>Secure</td>\n",
       "      <td>0.9</td>\n",
       "      <td>0</td>\n",
       "      <td>2397000</td>\n",
       "      <td>837000.0</td>\n",
       "      <td>1954-12-29</td>\n",
       "      <td>2017-06-05</td>\n",
       "    </tr>\n",
       "  </tbody>\n",
       "</table>\n",
       "</div>"
      ],
      "text/plain": [
       "                            Company name R/O Full Postcode Registered number  \\\n",
       "1.0                            TESCO PLC           AL7 1GA          00445790   \n",
       "2.0                         UNILEVER PLC          CH62 4ZD          00041424   \n",
       "3.0  SHELL TRADING INTERNATIONAL LIMITED           SE1 7NA          03634752   \n",
       "4.0                 TESCO STORES LIMITED           AL7 1GA          00519500   \n",
       "5.0             BP INTERNATIONAL LIMITED          TW16 7BP          00542515   \n",
       "\n",
       "     Primary UK SIC (2007) code Latest accounts date  \\\n",
       "1.0                       47110           2017-02-25   \n",
       "2.0                       46900           2016-12-31   \n",
       "3.0                       46711           2015-12-31   \n",
       "4.0                       47110           2016-02-27   \n",
       "5.0                       46719           2015-12-31   \n",
       "\n",
       "     Operating revenue (TO)\\nth GBP\\nLast avail. yr  \\\n",
       "1.0                                      55917000.0   \n",
       "2.0                                      45096000.0   \n",
       "3.0                                      42339000.0   \n",
       "4.0                                      39843000.0   \n",
       "5.0                                      29407000.0   \n",
       "\n",
       "     Number of employees\\nLast avail. yr Company status  \\\n",
       "1.0                             464520.0         Active   \n",
       "2.0                             169000.0         Active   \n",
       "3.0                                571.0         Active   \n",
       "4.0                             279140.0         Active   \n",
       "5.0                                  NaN         Active   \n",
       "\n",
       "            Ultimate owner SME indicator Credit score Credit score indicator  \\\n",
       "1.0              TESCO PLC            No           89                 Secure   \n",
       "2.0           UNILEVER PLC            No           95                 Secure   \n",
       "3.0  ROYAL DUTCH SHELL PLC            No           60                 Stable   \n",
       "4.0              TESCO PLC            No           92                 Secure   \n",
       "5.0              BP P.L.C.            No           86                 Secure   \n",
       "\n",
       "    Likelihood of failure\\n%  No of unsecured creditors  \\\n",
       "1.0                      0.9                          0   \n",
       "2.0                      0.9                          0   \n",
       "3.0                      2.2                          0   \n",
       "4.0                      0.9                          0   \n",
       "5.0                      0.9                          0   \n",
       "\n",
       "     Trade Creditors\\nth GBP\\nLast avail. yr  \\\n",
       "1.0                                  8875000   \n",
       "2.0                                  7350000   \n",
       "3.0                                  2572000   \n",
       "4.0                                  3351000   \n",
       "5.0                                  2397000   \n",
       "\n",
       "     Trade Debtors\\nth GBP\\nLast avail. yr Date of incorporation  \\\n",
       "1.0                              1475000.0            1947-11-27   \n",
       "2.0                              2848000.0            1894-06-21   \n",
       "3.0                              1465000.0            1998-09-14   \n",
       "4.0                                    NaN            1953-05-09   \n",
       "5.0                               837000.0            1954-12-29   \n",
       "\n",
       "    Date of last transaction at Companies House  \n",
       "1.0                                  2016-07-20  \n",
       "2.0                                  2017-05-31  \n",
       "3.0                                  2017-04-13  \n",
       "4.0                                  2016-10-18  \n",
       "5.0                                  2017-06-05  "
      ]
     },
     "execution_count": 4,
     "metadata": {},
     "output_type": "execute_result"
    }
   ],
   "source": [
    "df.head()"
   ]
  },
  {
   "cell_type": "markdown",
   "metadata": {},
   "source": [
    "# Extract Twitter handle + Website"
   ]
  },
  {
   "cell_type": "code",
   "execution_count": 90,
   "metadata": {
    "collapsed": true
   },
   "outputs": [],
   "source": [
    "from pws import Bing\n",
    "from pws import Google\n",
    "\n",
    "import re"
   ]
  },
  {
   "cell_type": "code",
   "execution_count": 91,
   "metadata": {
    "collapsed": true
   },
   "outputs": [],
   "source": [
    "companies=df['Company name'][1000:1500]"
   ]
  },
  {
   "cell_type": "code",
   "execution_count": 92,
   "metadata": {
    "collapsed": true
   },
   "outputs": [],
   "source": [
    "# clean to remove 'limited etc'\n",
    "\n",
    "companies=companies.apply(lambda x: x.replace('PLC', ''))\n",
    "companies=companies.apply(lambda x: x.replace('P L C', ''))\n",
    "companies=companies.apply(lambda x: x.replace('P.L.C.', ''))\n",
    "companies=companies.apply(lambda x: x.replace('LTD', ''))\n",
    "companies=companies.apply(lambda x: x.replace('LIMITED', ''))"
   ]
  },
  {
   "cell_type": "code",
   "execution_count": 93,
   "metadata": {
    "collapsed": true
   },
   "outputs": [],
   "source": [
    "website_links=[]\n",
    "twitter_links=[]"
   ]
  },
  {
   "cell_type": "code",
   "execution_count": 94,
   "metadata": {
    "collapsed": true
   },
   "outputs": [],
   "source": [
    "for x in companies:\n",
    "    try:   \n",
    "        twitter_result=Bing.search(x + 'Twitter', num=2, start=0, sleep=True, country_code='uk')\n",
    "        twitter_links.append(twitter_result['results'][0]['link'])\n",
    "    except:\n",
    "        twitter_links.append('error in retrieving twitter')\n",
    "        continue"
   ]
  },
  {
   "cell_type": "code",
   "execution_count": 95,
   "metadata": {
    "collapsed": true
   },
   "outputs": [],
   "source": [
    "for x in companies:\n",
    "    try:   \n",
    "        website_result=Bing.search(x + 'Website', num=2, start=0, sleep=True, country_code='uk')\n",
    "        website_links.append(website_result['results'][0]['link'])\n",
    "    except:\n",
    "        website_links.append('error in retrieving website')\n",
    "        continue"
   ]
  },
  {
   "cell_type": "code",
   "execution_count": 97,
   "metadata": {
    "collapsed": true
   },
   "outputs": [],
   "source": [
    "DF=pd.DataFrame({'company': companies, 'Twitter': twitter_links, 'Website': website_links})"
   ]
  },
  {
   "cell_type": "code",
   "execution_count": 128,
   "metadata": {
    "collapsed": true
   },
   "outputs": [],
   "source": [
    "DF.to_csv('twitter + sites 1000-1500.csv')"
   ]
  },
  {
   "cell_type": "markdown",
   "metadata": {},
   "source": [
    "# Cleaning Twitter Handles"
   ]
  },
  {
   "cell_type": "code",
   "execution_count": 135,
   "metadata": {
    "collapsed": true
   },
   "outputs": [],
   "source": [
    "df=pd.read_csv('twitter + sites 1000-1500.csv')\n",
    "df=df.drop({'Unnamed: 0'}, 1)\n",
    "df=df[['company', 'Website', 'Twitter']]"
   ]
  },
  {
   "cell_type": "code",
   "execution_count": 136,
   "metadata": {
    "collapsed": true
   },
   "outputs": [],
   "source": [
    "def selectTwitter(row):\n",
    "    if type(row)==str:\n",
    "        if row[8] != 't':\n",
    "            return np.nan\n",
    "        else:\n",
    "            return row\n",
    "    else:\n",
    "        return np.nan\n",
    "df['Twitter']=df['Twitter'].apply(selectTwitter)"
   ]
  },
  {
   "cell_type": "code",
   "execution_count": 145,
   "metadata": {
    "collapsed": true
   },
   "outputs": [],
   "source": [
    "def extracthandle(row):\n",
    "    try:\n",
    "        if type(row)==str:\n",
    "            row= row[20:]\n",
    "\n",
    "            row=re.search(r'\\w+', row)\n",
    "            return row.group()\n",
    "    except:\n",
    "        pass\n",
    "\n",
    "df['Twitter']=df['Twitter'].apply(extracthandle)"
   ]
  },
  {
   "cell_type": "code",
   "execution_count": 147,
   "metadata": {
    "scrolled": false
   },
   "outputs": [
    {
     "data": {
      "text/plain": [
       "0            None\n",
       "1            None\n",
       "2            None\n",
       "3    Enotria_wine\n",
       "4        MossBros\n",
       "Name: Twitter, dtype: object"
      ]
     },
     "execution_count": 147,
     "metadata": {},
     "output_type": "execute_result"
    }
   ],
   "source": [
    "df['Twitter'].head()"
   ]
  },
  {
   "cell_type": "markdown",
   "metadata": {},
   "source": [
    "\n",
    "\n",
    "-- 140 twitter handles extracted"
   ]
  },
  {
   "cell_type": "code",
   "execution_count": null,
   "metadata": {
    "collapsed": true
   },
   "outputs": [],
   "source": []
  }
 ],
 "metadata": {
  "kernelspec": {
   "display_name": "Python [default]",
   "language": "python",
   "name": "python3"
  },
  "language_info": {
   "codemirror_mode": {
    "name": "ipython",
    "version": 3
   },
   "file_extension": ".py",
   "mimetype": "text/x-python",
   "name": "python",
   "nbconvert_exporter": "python",
   "pygments_lexer": "ipython3",
   "version": "3.5.3"
  }
 },
 "nbformat": 4,
 "nbformat_minor": 2
}
