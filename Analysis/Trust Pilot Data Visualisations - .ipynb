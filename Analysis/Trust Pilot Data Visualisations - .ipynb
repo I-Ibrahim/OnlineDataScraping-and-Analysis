{
 "cells": [
  {
   "cell_type": "code",
   "execution_count": 41,
   "metadata": {
    "collapsed": true
   },
   "outputs": [],
   "source": [
    "import pandas as pd\n"
   ]
  },
  {
   "cell_type": "code",
   "execution_count": 51,
   "metadata": {
    "collapsed": true
   },
   "outputs": [],
   "source": [
    "df_Morr=pd.read_csv('../Data/Trust Pilot Extraction/dataMorrisons.csv', sep='\\t', header=None)\n",
    "df_Asda=pd.read_csv('../Data/Trust Pilot Extraction/dataAsda.csv', sep='\\t', header=None)\n",
    "df_Sains=pd.read_csv('../Data/Trust Pilot Extraction/dataSainsburys.csv', sep='\\t', header=None)\n",
    "df_Tesco=pd.read_csv('../Data/Trust Pilot Extraction/dataTesco.csv', sep='\\t', header=None)"
   ]
  },
  {
   "cell_type": "code",
   "execution_count": 52,
   "metadata": {
    "collapsed": true
   },
   "outputs": [],
   "source": [
    "df_Morr.columns=['title', 'review', 'rating', 'language','date & time']\n",
    "df_Asda.columns=['title', 'review', 'rating', 'language','date & time']\n",
    "df_Sains.columns=['title', 'review', 'rating', 'language','date & time']\n",
    "df_Tesco.columns=['title', 'review', 'rating', 'language','date & time']\n",
    "\n",
    "df_Morr['Company']='Morrisons'\n",
    "df_Asda['Company']='Asda'\n",
    "df_Sains['Company']='Sainsburys'\n",
    "df_Tesco['Company']='Tesco'\n",
    "\n",
    "frames=[df_Morr, df_Asda, df_Sains, df_Tesco]\n",
    "df=pd.concat(frames, axis=0)\n"
   ]
  },
  {
   "cell_type": "code",
   "execution_count": 53,
   "metadata": {},
   "outputs": [
    {
     "name": "stdout",
     "output_type": "stream",
     "text": [
      "<class 'pandas.core.frame.DataFrame'>\n",
      "Int64Index: 7057 entries, 0 to 2597\n",
      "Data columns (total 6 columns):\n",
      "title          7057 non-null object\n",
      "review         7057 non-null object\n",
      "rating         7057 non-null int64\n",
      "language       7057 non-null object\n",
      "date & time    7057 non-null object\n",
      "Company        7057 non-null object\n",
      "dtypes: int64(1), object(5)\n",
      "memory usage: 385.9+ KB\n"
     ]
    }
   ],
   "source": [
    "df.info()"
   ]
  },
  {
   "cell_type": "code",
   "execution_count": 54,
   "metadata": {
    "scrolled": false
   },
   "outputs": [
    {
     "data": {
      "text/html": [
       "<div>\n",
       "<style>\n",
       "    .dataframe thead tr:only-child th {\n",
       "        text-align: right;\n",
       "    }\n",
       "\n",
       "    .dataframe thead th {\n",
       "        text-align: left;\n",
       "    }\n",
       "\n",
       "    .dataframe tbody tr th {\n",
       "        vertical-align: top;\n",
       "    }\n",
       "</style>\n",
       "<table border=\"1\" class=\"dataframe\">\n",
       "  <thead>\n",
       "    <tr style=\"text-align: right;\">\n",
       "      <th></th>\n",
       "      <th>title</th>\n",
       "      <th>review</th>\n",
       "      <th>rating</th>\n",
       "      <th>Company</th>\n",
       "      <th>date</th>\n",
       "    </tr>\n",
       "  </thead>\n",
       "  <tbody>\n",
       "    <tr>\n",
       "      <th>0</th>\n",
       "      <td>I returned a product to Morrisons …</td>\n",
       "      <td>I returned a product to Morrisons Eastbourne s...</td>\n",
       "      <td>5</td>\n",
       "      <td>Morrisons</td>\n",
       "      <td>2017-07-09</td>\n",
       "    </tr>\n",
       "    <tr>\n",
       "      <th>1</th>\n",
       "      <td>Can we have some answers please????</td>\n",
       "      <td>Can we have some answers please????? Every sin...</td>\n",
       "      <td>1</td>\n",
       "      <td>Morrisons</td>\n",
       "      <td>2017-07-09</td>\n",
       "    </tr>\n",
       "    <tr>\n",
       "      <th>2</th>\n",
       "      <td>Random letter has put me off Morrisons.</td>\n",
       "      <td>Did you know that if you over stay in a Morris...</td>\n",
       "      <td>1</td>\n",
       "      <td>Morrisons</td>\n",
       "      <td>2017-07-07</td>\n",
       "    </tr>\n",
       "    <tr>\n",
       "      <th>3</th>\n",
       "      <td>Morrisons Yeovil,</td>\n",
       "      <td>Morrisons Yeovil,Complained to store manager o...</td>\n",
       "      <td>1</td>\n",
       "      <td>Morrisons</td>\n",
       "      <td>2017-07-07</td>\n",
       "    </tr>\n",
       "    <tr>\n",
       "      <th>4</th>\n",
       "      <td>What's the point of  'Express …</td>\n",
       "      <td>What's the point of  'Express Checkouts' at my...</td>\n",
       "      <td>2</td>\n",
       "      <td>Morrisons</td>\n",
       "      <td>2017-07-07</td>\n",
       "    </tr>\n",
       "  </tbody>\n",
       "</table>\n",
       "</div>"
      ],
      "text/plain": [
       "                                     title  \\\n",
       "0      I returned a product to Morrisons …   \n",
       "1      Can we have some answers please????   \n",
       "2  Random letter has put me off Morrisons.   \n",
       "3                        Morrisons Yeovil,   \n",
       "4          What's the point of  'Express …   \n",
       "\n",
       "                                              review  rating    Company  \\\n",
       "0  I returned a product to Morrisons Eastbourne s...       5  Morrisons   \n",
       "1  Can we have some answers please????? Every sin...       1  Morrisons   \n",
       "2  Did you know that if you over stay in a Morris...       1  Morrisons   \n",
       "3  Morrisons Yeovil,Complained to store manager o...       1  Morrisons   \n",
       "4  What's the point of  'Express Checkouts' at my...       2  Morrisons   \n",
       "\n",
       "        date  \n",
       "0 2017-07-09  \n",
       "1 2017-07-09  \n",
       "2 2017-07-07  \n",
       "3 2017-07-07  \n",
       "4 2017-07-07  "
      ]
     },
     "execution_count": 54,
     "metadata": {},
     "output_type": "execute_result"
    }
   ],
   "source": [
    "# extract date from datetime\n",
    "df['date']=df['date & time'].map(lambda x: x[:10])\n",
    "df=df.drop({'date & time','language'},1)\n",
    "df['date'] = pd.to_datetime(df['date'])  \n",
    "df=df.drop_duplicates(subset='review')\n",
    "df.head()"
   ]
  },
  {
   "cell_type": "markdown",
   "metadata": {},
   "source": [
    "# Visualisation"
   ]
  },
  {
   "cell_type": "code",
   "execution_count": 55,
   "metadata": {
    "collapsed": true
   },
   "outputs": [],
   "source": [
    "import numpy as np\n",
    "import datetime"
   ]
  },
  {
   "cell_type": "code",
   "execution_count": 56,
   "metadata": {
    "collapsed": true,
    "scrolled": true
   },
   "outputs": [],
   "source": [
    "df['date']=pd.to_datetime(df['date']) # convert to date time\n",
    "df.index=df['date'] # set as index\n",
    "\n",
    "df_Morr=df.loc[df['Company']=='Morrisons']\n",
    "df_Asda=df.loc[df['Company']=='Asda']\n",
    "df_Sains=df.loc[df['Company']=='Sainsburys']\n",
    "df_Tesco=df.loc[df['Company']=='Tesco']\n",
    "\n",
    "df_Morr=df_Morr.resample('q').mean()\n",
    "df_Asda=df_Asda.resample('q').mean()\n",
    "df_Sains=df_Sains.resample('q').mean()\n",
    "df_Tesco=df_Tesco.resample('q').mean()"
   ]
  },
  {
   "cell_type": "code",
   "execution_count": 57,
   "metadata": {
    "collapsed": true
   },
   "outputs": [],
   "source": [
    "import matplotlib.pyplot as plt\n",
    "% matplotlib inline"
   ]
  },
  {
   "cell_type": "code",
   "execution_count": 58,
   "metadata": {
    "collapsed": true
   },
   "outputs": [],
   "source": [
    "mask = (df_Morr.index >= '2011-01-01')\n",
    "df_Morr=df_Morr.loc[mask]\n",
    "df_Asda=df_Asda.loc[mask]\n",
    "df_Sains=df_Sains.loc[mask]\n",
    "df_Tesco=df_Tesco.loc[mask]\n",
    "\n",
    "\n"
   ]
  },
  {
   "cell_type": "code",
   "execution_count": 59,
   "metadata": {},
   "outputs": [
    {
     "data": {
      "text/plain": [
       "<matplotlib.legend.Legend at 0x11de25eb8>"
      ]
     },
     "execution_count": 59,
     "metadata": {},
     "output_type": "execute_result"
    },
    {
     "data": {
      "image/png": "[encoded data removed]",
      "text/plain": [
       "<matplotlib.figure.Figure at 0x116545588>"
      ]
     },
     "metadata": {},
     "output_type": "display_data"
    }
   ],
   "source": [
    "plt.plot(df_Morr.index, df_Morr.rating,'k',label='Morrisons')\n",
    "plt.plot(df_Asda.index, df_Asda.rating,'g',label='Asda')\n",
    "plt.plot(df_Sains.index, df_Sains.rating,'b',label='Sainsburys')\n",
    "plt.plot(df_Tesco.index, df_Tesco.rating,'m',label='Tesco')\n",
    "\n",
    "plt.ylabel('Avg. User Score by Quarter')\n",
    "plt.legend(loc='best',prop={'size':8})"
   ]
  },
  {
   "cell_type": "markdown",
   "metadata": {},
   "source": [
    "# Sentiment analysis"
   ]
  },
  {
   "cell_type": "code",
   "execution_count": 60,
   "metadata": {
    "collapsed": true
   },
   "outputs": [],
   "source": [
    "from textblob import TextBlob"
   ]
  },
  {
   "cell_type": "code",
   "execution_count": 61,
   "metadata": {
    "collapsed": true
   },
   "outputs": [],
   "source": [
    "def sentiment_score(text):\n",
    "    try:\n",
    "        return TextBlob(text).sentiment\n",
    "    except:\n",
    "        return None\n",
    "    \n",
    "df['sentiment']=df['review'].apply(sentiment_score)"
   ]
  },
  {
   "cell_type": "code",
   "execution_count": 62,
   "metadata": {
    "collapsed": true
   },
   "outputs": [],
   "source": [
    "new_col_list = ['sentiment score ','subjectivity']\n",
    "for n,col in enumerate(new_col_list):\n",
    "    df[col] = df['sentiment'].apply(lambda location: location[n])\n",
    "df=df.drop('sentiment', axis=1)"
   ]
  },
  {
   "cell_type": "code",
   "execution_count": 63,
   "metadata": {},
   "outputs": [
    {
     "data": {
      "text/html": [
       "<div>\n",
       "<style>\n",
       "    .dataframe thead tr:only-child th {\n",
       "        text-align: right;\n",
       "    }\n",
       "\n",
       "    .dataframe thead th {\n",
       "        text-align: left;\n",
       "    }\n",
       "\n",
       "    .dataframe tbody tr th {\n",
       "        vertical-align: top;\n",
       "    }\n",
       "</style>\n",
       "<table border=\"1\" class=\"dataframe\">\n",
       "  <thead>\n",
       "    <tr style=\"text-align: right;\">\n",
       "      <th></th>\n",
       "      <th>title</th>\n",
       "      <th>review</th>\n",
       "      <th>rating</th>\n",
       "      <th>Company</th>\n",
       "      <th>date</th>\n",
       "      <th>sentiment score</th>\n",
       "      <th>subjectivity</th>\n",
       "    </tr>\n",
       "    <tr>\n",
       "      <th>date</th>\n",
       "      <th></th>\n",
       "      <th></th>\n",
       "      <th></th>\n",
       "      <th></th>\n",
       "      <th></th>\n",
       "      <th></th>\n",
       "      <th></th>\n",
       "    </tr>\n",
       "  </thead>\n",
       "  <tbody>\n",
       "    <tr>\n",
       "      <th>2017-07-09</th>\n",
       "      <td>I returned a product to Morrisons …</td>\n",
       "      <td>I returned a product to Morrisons Eastbourne s...</td>\n",
       "      <td>5</td>\n",
       "      <td>Morrisons</td>\n",
       "      <td>2017-07-09</td>\n",
       "      <td>-0.023333</td>\n",
       "      <td>0.243333</td>\n",
       "    </tr>\n",
       "    <tr>\n",
       "      <th>2017-07-09</th>\n",
       "      <td>Can we have some answers please????</td>\n",
       "      <td>Can we have some answers please????? Every sin...</td>\n",
       "      <td>1</td>\n",
       "      <td>Morrisons</td>\n",
       "      <td>2017-07-09</td>\n",
       "      <td>-0.054945</td>\n",
       "      <td>0.416636</td>\n",
       "    </tr>\n",
       "    <tr>\n",
       "      <th>2017-07-07</th>\n",
       "      <td>Random letter has put me off Morrisons.</td>\n",
       "      <td>Did you know that if you over stay in a Morris...</td>\n",
       "      <td>1</td>\n",
       "      <td>Morrisons</td>\n",
       "      <td>2017-07-07</td>\n",
       "      <td>0.142857</td>\n",
       "      <td>0.467857</td>\n",
       "    </tr>\n",
       "    <tr>\n",
       "      <th>2017-07-07</th>\n",
       "      <td>Morrisons Yeovil,</td>\n",
       "      <td>Morrisons Yeovil,Complained to store manager o...</td>\n",
       "      <td>1</td>\n",
       "      <td>Morrisons</td>\n",
       "      <td>2017-07-07</td>\n",
       "      <td>-0.361111</td>\n",
       "      <td>0.561111</td>\n",
       "    </tr>\n",
       "    <tr>\n",
       "      <th>2017-07-07</th>\n",
       "      <td>What's the point of  'Express …</td>\n",
       "      <td>What's the point of  'Express Checkouts' at my...</td>\n",
       "      <td>2</td>\n",
       "      <td>Morrisons</td>\n",
       "      <td>2017-07-07</td>\n",
       "      <td>0.112500</td>\n",
       "      <td>0.333333</td>\n",
       "    </tr>\n",
       "  </tbody>\n",
       "</table>\n",
       "</div>"
      ],
      "text/plain": [
       "                                              title  \\\n",
       "date                                                  \n",
       "2017-07-09      I returned a product to Morrisons …   \n",
       "2017-07-09      Can we have some answers please????   \n",
       "2017-07-07  Random letter has put me off Morrisons.   \n",
       "2017-07-07                        Morrisons Yeovil,   \n",
       "2017-07-07          What's the point of  'Express …   \n",
       "\n",
       "                                                       review  rating  \\\n",
       "date                                                                    \n",
       "2017-07-09  I returned a product to Morrisons Eastbourne s...       5   \n",
       "2017-07-09  Can we have some answers please????? Every sin...       1   \n",
       "2017-07-07  Did you know that if you over stay in a Morris...       1   \n",
       "2017-07-07  Morrisons Yeovil,Complained to store manager o...       1   \n",
       "2017-07-07  What's the point of  'Express Checkouts' at my...       2   \n",
       "\n",
       "              Company       date  sentiment score   subjectivity  \n",
       "date                                                              \n",
       "2017-07-09  Morrisons 2017-07-09         -0.023333      0.243333  \n",
       "2017-07-09  Morrisons 2017-07-09         -0.054945      0.416636  \n",
       "2017-07-07  Morrisons 2017-07-07          0.142857      0.467857  \n",
       "2017-07-07  Morrisons 2017-07-07         -0.361111      0.561111  \n",
       "2017-07-07  Morrisons 2017-07-07          0.112500      0.333333  "
      ]
     },
     "execution_count": 63,
     "metadata": {},
     "output_type": "execute_result"
    }
   ],
   "source": [
    "df.head()"
   ]
  },
  {
   "cell_type": "code",
   "execution_count": 64,
   "metadata": {
    "collapsed": true
   },
   "outputs": [],
   "source": [
    "df_sentiment=df.filter(['sentiment score '], axis=1)"
   ]
  },
  {
   "cell_type": "code",
   "execution_count": 65,
   "metadata": {
    "collapsed": true
   },
   "outputs": [],
   "source": [
    "df_Morr_sentiment=df_sentiment.loc[df['Company']=='Morrisons']\n",
    "df_Asda_sentiment=df_sentiment.loc[df['Company']=='Asda']\n",
    "df_Sains_sentiment=df_sentiment.loc[df['Company']=='Sainsburys']\n",
    "df_Tesco_sentiment=df_sentiment.loc[df['Company']=='Tesco']"
   ]
  },
  {
   "cell_type": "code",
   "execution_count": 66,
   "metadata": {
    "scrolled": true
   },
   "outputs": [
    {
     "data": {
      "text/html": [
       "<div>\n",
       "<style>\n",
       "    .dataframe thead tr:only-child th {\n",
       "        text-align: right;\n",
       "    }\n",
       "\n",
       "    .dataframe thead th {\n",
       "        text-align: left;\n",
       "    }\n",
       "\n",
       "    .dataframe tbody tr th {\n",
       "        vertical-align: top;\n",
       "    }\n",
       "</style>\n",
       "<table border=\"1\" class=\"dataframe\">\n",
       "  <thead>\n",
       "    <tr style=\"text-align: right;\">\n",
       "      <th></th>\n",
       "      <th>sentiment score</th>\n",
       "    </tr>\n",
       "    <tr>\n",
       "      <th>date</th>\n",
       "      <th></th>\n",
       "    </tr>\n",
       "  </thead>\n",
       "  <tbody>\n",
       "    <tr>\n",
       "      <th>2009-06-30</th>\n",
       "      <td>-0.4</td>\n",
       "    </tr>\n",
       "    <tr>\n",
       "      <th>2009-09-30</th>\n",
       "      <td>NaN</td>\n",
       "    </tr>\n",
       "    <tr>\n",
       "      <th>2009-12-31</th>\n",
       "      <td>NaN</td>\n",
       "    </tr>\n",
       "    <tr>\n",
       "      <th>2010-03-31</th>\n",
       "      <td>NaN</td>\n",
       "    </tr>\n",
       "    <tr>\n",
       "      <th>2010-06-30</th>\n",
       "      <td>NaN</td>\n",
       "    </tr>\n",
       "  </tbody>\n",
       "</table>\n",
       "</div>"
      ],
      "text/plain": [
       "            sentiment score \n",
       "date                        \n",
       "2009-06-30              -0.4\n",
       "2009-09-30               NaN\n",
       "2009-12-31               NaN\n",
       "2010-03-31               NaN\n",
       "2010-06-30               NaN"
      ]
     },
     "execution_count": 66,
     "metadata": {},
     "output_type": "execute_result"
    }
   ],
   "source": [
    "df_Morr_sentiment=df_Morr_sentiment.resample('q').mean()\n",
    "df_Asda_sentiment=df_Asda_sentiment.resample('q').mean()\n",
    "df_Sains_sentiment=df_Sains_sentiment.resample('q').mean()\n",
    "df_Tesco_sentiment=df_sentiment.resample('q').mean()\n",
    "df_Morr_sentiment.head()"
   ]
  },
  {
   "cell_type": "code",
   "execution_count": 67,
   "metadata": {
    "scrolled": true
   },
   "outputs": [
    {
     "data": {
      "text/plain": [
       "<matplotlib.legend.Legend at 0x11df259b0>"
      ]
     },
     "execution_count": 67,
     "metadata": {},
     "output_type": "execute_result"
    },
    {
     "data": {
      "image/png": "[encoded data removed]",
      "text/plain": [
       "<matplotlib.figure.Figure at 0x11df03550>"
      ]
     },
     "metadata": {},
     "output_type": "display_data"
    }
   ],
   "source": [
    "mask = (df_Morr_sentiment.index >= '2011-01-01')\n",
    "df_Morr_sentiment=df_Morr_sentiment.loc[mask]\n",
    "df_Asda_sentiment=df_Asda_sentiment.loc[mask]\n",
    "df_Sains_sentiment=df_Sains_sentiment.loc[mask]\n",
    "df_Tesco_sentiment=df_Tesco_sentiment.loc[mask]\n",
    "\n",
    "\n",
    "x=df_Morr_sentiment.index\n",
    "y=df_Morr_sentiment['sentiment score ']\n",
    "\n",
    "plt.plot(df_Morr_sentiment.index,df_Morr_sentiment['sentiment score '],'k',label='Morrisons')\n",
    "plt.plot(df_Asda_sentiment.index, df_Asda_sentiment['sentiment score '],'g',label='Asda')\n",
    "plt.plot(df_Sains_sentiment.index, df_Sains_sentiment['sentiment score '],'b',label='Sainsburys')\n",
    "plt.plot(df_Tesco_sentiment.index, df_Tesco_sentiment['sentiment score '],'m',label='Tesco')\n",
    "\n",
    "plt.ylabel('Sentiment Score')\n",
    "plt.legend(loc='best',prop={'size':8})"
   ]
  },
  {
   "cell_type": "code",
   "execution_count": null,
   "metadata": {
    "collapsed": true
   },
   "outputs": [],
   "source": []
  },
  {
   "cell_type": "code",
   "execution_count": null,
   "metadata": {
    "collapsed": true
   },
   "outputs": [],
   "source": []
  },
  {
   "cell_type": "code",
   "execution_count": null,
   "metadata": {
    "collapsed": true
   },
   "outputs": [],
   "source": []
  }
 ],
 "metadata": {
  "anaconda-cloud": {},
  "kernelspec": {
   "display_name": "Python [default]",
   "language": "python",
   "name": "python3"
  },
  "language_info": {
   "codemirror_mode": {
    "name": "ipython",
    "version": 3
   },
   "file_extension": ".py",
   "mimetype": "text/x-python",
   "name": "python",
   "nbconvert_exporter": "python",
   "pygments_lexer": "ipython3",
   "version": "3.5.3"
  }
 },
 "nbformat": 4,
 "nbformat_minor": 2
}
